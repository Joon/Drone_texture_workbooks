{
 "cells": [
  {
   "cell_type": "code",
   "execution_count": 1,
   "metadata": {},
   "outputs": [],
   "source": []
  },
  {
   "cell_type": "code",
   "execution_count": 7,
   "metadata": {},
   "outputs": [
    {
     "data": {
      "text/plain": [
       "array([0.75, 0.05, 0.03, 0.17], dtype=float32)"
      ]
     },
     "execution_count": 7,
     "metadata": {},
     "output_type": "execute_result"
    }
   ],
   "source": [
    "list(f.keys\n"
   ]
  },
  {
   "cell_type": "code",
   "execution_count": 129,
   "metadata": {},
   "outputs": [
    {
     "name": "stdout",
     "output_type": "stream",
     "text": [
      "Required number of samples per tile for a significant finding: 194\n"
     ]
    }
   ],
   "source": [
    "# Calculate statistically significant test sample size\n",
    "\n",
    "# Z score for a 95% confidence (from Z table)\n",
    "Z_score = 1.96\n",
    "# Calculate with a 5% margin of error\n",
    "margin_of_error = 0.05\n",
    "\n",
    "# Some selected expected population percentages\n",
    "population_with_attribute_water = 0.2\n",
    "population_with_attribute_foliage = 0.9\n",
    "population_with_attribute_road = 0.01\n",
    "population_with_attribute_building = 0.001\n",
    "N = 900\n",
    "\n",
    "required_samples = 0\n",
    "\n",
    "# Calc for all population percentages, output all values. We will pick the largest one\n",
    "for p in [population_with_attribute_water, \n",
    "          population_with_attribute_foliage, population_with_attribute_road, \n",
    "          population_with_attribute_building]:\n",
    "    q = 1 - p\n",
    "    # Calc required samples for an unlimited population\n",
    "    n_0 = ((Z_score ** 2) * p * q) / (margin_of_error ** 2)\n",
    "    # Now reduce this unbounded required sample count down by the known population \n",
    "    # per tile (900 pixels)\n",
    "    n = n_0 / (1 + ((n_0 - 1) / N))\n",
    "    if (n > required_samples):\n",
    "        required_samples = round(n) + (1 if round(n) != n else 0)\n",
    "   \n",
    "print('Required number of samples per tile for a significant finding: {}'.format(required_samples))"
   ]
  },
  {
   "cell_type": "code",
   "execution_count": 130,
   "metadata": {},
   "outputs": [],
   "source": [
    "import numpy as np\n",
    "import matplotlib.pyplot as plt\n",
    "import h5py\n",
    "import array as arr\n",
    "\n",
    "f = h5py.File('../Built_Ilastik/Ilastik/TrainingData/DJI_00990_Probabilities.h5', 'r')\n",
    "\n",
    "\n"
   ]
  },
  {
   "cell_type": "code",
   "execution_count": 131,
   "metadata": {},
   "outputs": [],
   "source": [
    "x_s = np.asarray([int(round(x[0])) for x in np.random.uniform(0.0, 30.0, (required_samples, 1))])\n",
    "y_s = np.asarray([int(round(x[0])) for x in np.random.uniform(0.0, 30.0, (required_samples, 1))])\n",
    "\n",
    "sample_pixels = np.asarray(f['exported_data'])[x_s, y_s]\n",
    "\n",
    "\n",
    "total_foliage_probility = sum(sample_pixels[:, 0])\n",
    "total_water_probility = sum(sample_pixels[:, 0])\n",
    "total_road_probility = sum(sample_pixels[:, 0])\n",
    "total_building_probility = sum(sample_pixels[:, 0])"
   ]
  }
 ],
 "metadata": {
  "kernelspec": {
   "display_name": "Python 3",
   "language": "python",
   "name": "python3"
  },
  "language_info": {
   "codemirror_mode": {
    "name": "ipython",
    "version": 3
   },
   "file_extension": ".py",
   "mimetype": "text/x-python",
   "name": "python",
   "nbconvert_exporter": "python",
   "pygments_lexer": "ipython3",
   "version": "3.7.4"
  }
 },
 "nbformat": 4,
 "nbformat_minor": 4
}

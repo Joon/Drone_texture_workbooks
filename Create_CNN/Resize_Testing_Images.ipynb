{
 "cells": [
  {
   "cell_type": "code",
   "execution_count": 3,
   "metadata": {},
   "outputs": [],
   "source": [
    "from PIL import Image\n",
    "import glob\n",
    "import os\n",
    "\n",
    "test_folder = \"../../Texture_Repo/Donegal_Rural_Terrain_Textures/Upload_To_AWS/low_alt/test/*.jpg\"\n",
    "\n",
    "for file in glob.glob(test_folder):\n",
    "    image_file = Image.open(file)\n",
    "    head_tail = os.path.split(file)     \n",
    "    file_name = head_tail[1]\n",
    "    \n",
    "    med_file = image_file.copy()    \n",
    "    med_file.thumbnail((1920, 1080), resample=3)\n",
    "    med_file.save(\"../../Texture_Repo/Donegal_Rural_Terrain_Textures/Upload_To_AWS/low_alt/test_med/\" + file_name)\n",
    "    \n",
    "    small_file = image_file.copy()    \n",
    "    small_file.thumbnail((800, 600), resample=3)\n",
    "    small_file.save(\"../../Texture_Repo/Donegal_Rural_Terrain_Textures/Upload_To_AWS/low_alt/test_small/\" + file_name)\n",
    "    "
   ]
  }
 ],
 "metadata": {
  "kernelspec": {
   "display_name": "Python 3",
   "language": "python",
   "name": "python3"
  },
  "language_info": {
   "codemirror_mode": {
    "name": "ipython",
    "version": 3
   },
   "file_extension": ".py",
   "mimetype": "text/x-python",
   "name": "python",
   "nbconvert_exporter": "python",
   "pygments_lexer": "ipython3",
   "version": "3.7.4"
  }
 },
 "nbformat": 4,
 "nbformat_minor": 4
}

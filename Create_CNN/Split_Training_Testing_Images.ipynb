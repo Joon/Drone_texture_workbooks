{
 "cells": [
  {
   "cell_type": "markdown",
   "metadata": {},
   "source": [
    "# Split list of files into a test and train sample\n",
    "\n",
    "80% of the available images (800 out of the 1000) will be used for training. This script picks 800 random images from the Training_Images folder (assuming that the folder only contains images from the 100m - 120m altitude range), and then moves all the images not selected into the Validation_Images sibling folder"
   ]
  },
  {
   "cell_type": "code",
   "execution_count": null,
   "metadata": {},
   "outputs": [],
   "source": [
    "from os import listdir\n",
    "from os.path import isfile, join\n",
    "import random\n",
    "import numpy as np\n",
    "import shutil\n",
    "\n",
    "\n",
    "frames = None\n",
    "filenames = [f for f in listdir('../Training_Images') if isfile(join('../Training_Images', f))]\n",
    "required_count = 800\n",
    "training_set = random.sample(filenames, required_count)\n",
    "move_files = np.setdiff1d(filenames, training_set)\n",
    "for f in move_files:\n",
    "    source = '../Training_Images/' + f\n",
    "    destination = '../Validation_Images/' + f\n",
    "    \n",
    "    shutil.move(source, destination)"
   ]
  }
 ],
 "metadata": {
  "kernelspec": {
   "display_name": "Python 3",
   "language": "python",
   "name": "python3"
  },
  "language_info": {
   "codemirror_mode": {
    "name": "ipython",
    "version": 3
   },
   "file_extension": ".py",
   "mimetype": "text/x-python",
   "name": "python",
   "nbconvert_exporter": "python",
   "pygments_lexer": "ipython3",
   "version": "3.7.4"
  }
 },
 "nbformat": 4,
 "nbformat_minor": 4
}

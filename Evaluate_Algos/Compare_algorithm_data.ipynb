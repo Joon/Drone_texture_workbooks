{
 "cells": [
  {
   "cell_type": "markdown",
   "metadata": {},
   "source": [
    "# Compare the algorithm results to the ground truth classification data\n",
    "\n",
    "Processing that uses the pre-created pickle file of comparison data for the various approaches, and compares the classified data to the ground truth data that was originally classified"
   ]
  },
  {
   "cell_type": "code",
   "execution_count": 1,
   "metadata": {},
   "outputs": [],
   "source": [
    "import pandas as pd\n",
    "\n",
    "compare_data = pd.read_pickle('../../TestPredictions/evaluate_algo_data.pkl')"
   ]
  },
  {
   "cell_type": "markdown",
   "metadata": {},
   "source": [
    "## Step 1: Add a matched column\n",
    "\n",
    "Add a numeric 1 or 0 indicating whether the specific line in the data matches with the original classification or not"
   ]
  },
  {
   "cell_type": "code",
   "execution_count": 4,
   "metadata": {},
   "outputs": [
    {
     "data": {
      "text/html": [
       "<div>\n",
       "<style scoped>\n",
       "    .dataframe tbody tr th:only-of-type {\n",
       "        vertical-align: middle;\n",
       "    }\n",
       "\n",
       "    .dataframe tbody tr th {\n",
       "        vertical-align: top;\n",
       "    }\n",
       "\n",
       "    .dataframe thead th {\n",
       "        text-align: right;\n",
       "    }\n",
       "</style>\n",
       "<table border=\"1\" class=\"dataframe\">\n",
       "  <thead>\n",
       "    <tr style=\"text-align: right;\">\n",
       "      <th></th>\n",
       "      <th>tile_x</th>\n",
       "      <th>tile_y</th>\n",
       "      <th>tile_class</th>\n",
       "      <th>algorithm_type</th>\n",
       "      <th>algorithm</th>\n",
       "      <th>image_size</th>\n",
       "      <th>image_id</th>\n",
       "      <th>Foliage</th>\n",
       "      <th>Water</th>\n",
       "      <th>Building</th>\n",
       "      <th>...</th>\n",
       "      <th>test_case</th>\n",
       "      <th>ground_truth</th>\n",
       "      <th>Video_File</th>\n",
       "      <th>File_ID</th>\n",
       "      <th>Date</th>\n",
       "      <th>Time</th>\n",
       "      <th>Time_From_Daylight_Start</th>\n",
       "      <th>Time_To_Daylight_End</th>\n",
       "      <th>Conditions</th>\n",
       "      <th>matched</th>\n",
       "    </tr>\n",
       "  </thead>\n",
       "  <tbody>\n",
       "    <tr>\n",
       "      <th>0</th>\n",
       "      <td>0</td>\n",
       "      <td>0</td>\n",
       "      <td>water</td>\n",
       "      <td>cnn</td>\n",
       "      <td>hires</td>\n",
       "      <td>test-large</td>\n",
       "      <td>DJI_0099200</td>\n",
       "      <td>0.000000</td>\n",
       "      <td>1.000000</td>\n",
       "      <td>0.000000</td>\n",
       "      <td>...</td>\n",
       "      <td>120m_altitude</td>\n",
       "      <td>road</td>\n",
       "      <td>DJI_0099.MP4</td>\n",
       "      <td>DJI_0099</td>\n",
       "      <td>03/05/2020</td>\n",
       "      <td>11:40</td>\n",
       "      <td>5.77</td>\n",
       "      <td>9.40</td>\n",
       "      <td>Partly_Cloudy</td>\n",
       "      <td>0</td>\n",
       "    </tr>\n",
       "    <tr>\n",
       "      <th>1</th>\n",
       "      <td>0</td>\n",
       "      <td>0</td>\n",
       "      <td>road</td>\n",
       "      <td>cnn</td>\n",
       "      <td>hires</td>\n",
       "      <td>test-medium</td>\n",
       "      <td>DJI_0099200</td>\n",
       "      <td>0.000000</td>\n",
       "      <td>0.000000</td>\n",
       "      <td>0.000000</td>\n",
       "      <td>...</td>\n",
       "      <td>120m_altitude</td>\n",
       "      <td>road</td>\n",
       "      <td>DJI_0099.MP4</td>\n",
       "      <td>DJI_0099</td>\n",
       "      <td>03/05/2020</td>\n",
       "      <td>11:40</td>\n",
       "      <td>5.77</td>\n",
       "      <td>9.40</td>\n",
       "      <td>Partly_Cloudy</td>\n",
       "      <td>1</td>\n",
       "    </tr>\n",
       "    <tr>\n",
       "      <th>2</th>\n",
       "      <td>0</td>\n",
       "      <td>0</td>\n",
       "      <td>road</td>\n",
       "      <td>cnn</td>\n",
       "      <td>hires</td>\n",
       "      <td>test-small</td>\n",
       "      <td>DJI_0099200</td>\n",
       "      <td>0.000000</td>\n",
       "      <td>0.000000</td>\n",
       "      <td>0.000000</td>\n",
       "      <td>...</td>\n",
       "      <td>120m_altitude</td>\n",
       "      <td>road</td>\n",
       "      <td>DJI_0099.MP4</td>\n",
       "      <td>DJI_0099</td>\n",
       "      <td>03/05/2020</td>\n",
       "      <td>11:40</td>\n",
       "      <td>5.77</td>\n",
       "      <td>9.40</td>\n",
       "      <td>Partly_Cloudy</td>\n",
       "      <td>1</td>\n",
       "    </tr>\n",
       "    <tr>\n",
       "      <th>3</th>\n",
       "      <td>0</td>\n",
       "      <td>0</td>\n",
       "      <td>water</td>\n",
       "      <td>cnn</td>\n",
       "      <td>lowres</td>\n",
       "      <td>test-large</td>\n",
       "      <td>DJI_0099200</td>\n",
       "      <td>0.000000</td>\n",
       "      <td>1.000000</td>\n",
       "      <td>0.000000</td>\n",
       "      <td>...</td>\n",
       "      <td>120m_altitude</td>\n",
       "      <td>road</td>\n",
       "      <td>DJI_0099.MP4</td>\n",
       "      <td>DJI_0099</td>\n",
       "      <td>03/05/2020</td>\n",
       "      <td>11:40</td>\n",
       "      <td>5.77</td>\n",
       "      <td>9.40</td>\n",
       "      <td>Partly_Cloudy</td>\n",
       "      <td>0</td>\n",
       "    </tr>\n",
       "    <tr>\n",
       "      <th>4</th>\n",
       "      <td>0</td>\n",
       "      <td>0</td>\n",
       "      <td>road</td>\n",
       "      <td>cnn</td>\n",
       "      <td>lowres</td>\n",
       "      <td>test-medium</td>\n",
       "      <td>DJI_0099200</td>\n",
       "      <td>0.000000</td>\n",
       "      <td>0.000000</td>\n",
       "      <td>0.257732</td>\n",
       "      <td>...</td>\n",
       "      <td>120m_altitude</td>\n",
       "      <td>road</td>\n",
       "      <td>DJI_0099.MP4</td>\n",
       "      <td>DJI_0099</td>\n",
       "      <td>03/05/2020</td>\n",
       "      <td>11:40</td>\n",
       "      <td>5.77</td>\n",
       "      <td>9.40</td>\n",
       "      <td>Partly_Cloudy</td>\n",
       "      <td>1</td>\n",
       "    </tr>\n",
       "    <tr>\n",
       "      <th>...</th>\n",
       "      <td>...</td>\n",
       "      <td>...</td>\n",
       "      <td>...</td>\n",
       "      <td>...</td>\n",
       "      <td>...</td>\n",
       "      <td>...</td>\n",
       "      <td>...</td>\n",
       "      <td>...</td>\n",
       "      <td>...</td>\n",
       "      <td>...</td>\n",
       "      <td>...</td>\n",
       "      <td>...</td>\n",
       "      <td>...</td>\n",
       "      <td>...</td>\n",
       "      <td>...</td>\n",
       "      <td>...</td>\n",
       "      <td>...</td>\n",
       "      <td>...</td>\n",
       "      <td>...</td>\n",
       "      <td>...</td>\n",
       "      <td>...</td>\n",
       "    </tr>\n",
       "    <tr>\n",
       "      <th>14017459</th>\n",
       "      <td>127</td>\n",
       "      <td>71</td>\n",
       "      <td>foliage</td>\n",
       "      <td>cnn</td>\n",
       "      <td>lowres</td>\n",
       "      <td>test-medium</td>\n",
       "      <td>DJI_0155400</td>\n",
       "      <td>1.000000</td>\n",
       "      <td>0.000000</td>\n",
       "      <td>0.000000</td>\n",
       "      <td>...</td>\n",
       "      <td>35m_altitude</td>\n",
       "      <td>foliage</td>\n",
       "      <td>DJI_0155.MP4</td>\n",
       "      <td>DJI_0155</td>\n",
       "      <td>04/07/2020</td>\n",
       "      <td>14:06</td>\n",
       "      <td>9.12</td>\n",
       "      <td>8.08</td>\n",
       "      <td>Cloudy</td>\n",
       "      <td>1</td>\n",
       "    </tr>\n",
       "    <tr>\n",
       "      <th>14017460</th>\n",
       "      <td>127</td>\n",
       "      <td>71</td>\n",
       "      <td>foliage</td>\n",
       "      <td>cnn</td>\n",
       "      <td>lowres</td>\n",
       "      <td>test-small</td>\n",
       "      <td>DJI_0155400</td>\n",
       "      <td>1.000000</td>\n",
       "      <td>0.000000</td>\n",
       "      <td>0.000000</td>\n",
       "      <td>...</td>\n",
       "      <td>35m_altitude</td>\n",
       "      <td>foliage</td>\n",
       "      <td>DJI_0155.MP4</td>\n",
       "      <td>DJI_0155</td>\n",
       "      <td>04/07/2020</td>\n",
       "      <td>14:06</td>\n",
       "      <td>9.12</td>\n",
       "      <td>8.08</td>\n",
       "      <td>Cloudy</td>\n",
       "      <td>1</td>\n",
       "    </tr>\n",
       "    <tr>\n",
       "      <th>14017461</th>\n",
       "      <td>127</td>\n",
       "      <td>71</td>\n",
       "      <td>foliage</td>\n",
       "      <td>ilastik</td>\n",
       "      <td>default</td>\n",
       "      <td>test-large</td>\n",
       "      <td>DJI_0155400</td>\n",
       "      <td>0.749568</td>\n",
       "      <td>0.006906</td>\n",
       "      <td>0.071655</td>\n",
       "      <td>...</td>\n",
       "      <td>35m_altitude</td>\n",
       "      <td>foliage</td>\n",
       "      <td>DJI_0155.MP4</td>\n",
       "      <td>DJI_0155</td>\n",
       "      <td>04/07/2020</td>\n",
       "      <td>14:06</td>\n",
       "      <td>9.12</td>\n",
       "      <td>8.08</td>\n",
       "      <td>Cloudy</td>\n",
       "      <td>1</td>\n",
       "    </tr>\n",
       "    <tr>\n",
       "      <th>14017462</th>\n",
       "      <td>127</td>\n",
       "      <td>71</td>\n",
       "      <td>foliage</td>\n",
       "      <td>ilastik</td>\n",
       "      <td>default</td>\n",
       "      <td>test-medium</td>\n",
       "      <td>DJI_0155400</td>\n",
       "      <td>0.768778</td>\n",
       "      <td>0.011556</td>\n",
       "      <td>0.058000</td>\n",
       "      <td>...</td>\n",
       "      <td>35m_altitude</td>\n",
       "      <td>foliage</td>\n",
       "      <td>DJI_0155.MP4</td>\n",
       "      <td>DJI_0155</td>\n",
       "      <td>04/07/2020</td>\n",
       "      <td>14:06</td>\n",
       "      <td>9.12</td>\n",
       "      <td>8.08</td>\n",
       "      <td>Cloudy</td>\n",
       "      <td>1</td>\n",
       "    </tr>\n",
       "    <tr>\n",
       "      <th>14017463</th>\n",
       "      <td>127</td>\n",
       "      <td>71</td>\n",
       "      <td>foliage</td>\n",
       "      <td>ilastik</td>\n",
       "      <td>default</td>\n",
       "      <td>test-small</td>\n",
       "      <td>DJI_0155400</td>\n",
       "      <td>0.615517</td>\n",
       "      <td>0.015172</td>\n",
       "      <td>0.065862</td>\n",
       "      <td>...</td>\n",
       "      <td>35m_altitude</td>\n",
       "      <td>foliage</td>\n",
       "      <td>DJI_0155.MP4</td>\n",
       "      <td>DJI_0155</td>\n",
       "      <td>04/07/2020</td>\n",
       "      <td>14:06</td>\n",
       "      <td>9.12</td>\n",
       "      <td>8.08</td>\n",
       "      <td>Cloudy</td>\n",
       "      <td>1</td>\n",
       "    </tr>\n",
       "  </tbody>\n",
       "</table>\n",
       "<p>14017464 rows × 22 columns</p>\n",
       "</div>"
      ],
      "text/plain": [
       "          tile_x  tile_y tile_class algorithm_type algorithm   image_size  \\\n",
       "0              0       0      water            cnn     hires   test-large   \n",
       "1              0       0       road            cnn     hires  test-medium   \n",
       "2              0       0       road            cnn     hires   test-small   \n",
       "3              0       0      water            cnn    lowres   test-large   \n",
       "4              0       0       road            cnn    lowres  test-medium   \n",
       "...          ...     ...        ...            ...       ...          ...   \n",
       "14017459     127      71    foliage            cnn    lowres  test-medium   \n",
       "14017460     127      71    foliage            cnn    lowres   test-small   \n",
       "14017461     127      71    foliage        ilastik   default   test-large   \n",
       "14017462     127      71    foliage        ilastik   default  test-medium   \n",
       "14017463     127      71    foliage        ilastik   default   test-small   \n",
       "\n",
       "             image_id   Foliage     Water  Building  ...      test_case  \\\n",
       "0         DJI_0099200  0.000000  1.000000  0.000000  ...  120m_altitude   \n",
       "1         DJI_0099200  0.000000  0.000000  0.000000  ...  120m_altitude   \n",
       "2         DJI_0099200  0.000000  0.000000  0.000000  ...  120m_altitude   \n",
       "3         DJI_0099200  0.000000  1.000000  0.000000  ...  120m_altitude   \n",
       "4         DJI_0099200  0.000000  0.000000  0.257732  ...  120m_altitude   \n",
       "...               ...       ...       ...       ...  ...            ...   \n",
       "14017459  DJI_0155400  1.000000  0.000000  0.000000  ...   35m_altitude   \n",
       "14017460  DJI_0155400  1.000000  0.000000  0.000000  ...   35m_altitude   \n",
       "14017461  DJI_0155400  0.749568  0.006906  0.071655  ...   35m_altitude   \n",
       "14017462  DJI_0155400  0.768778  0.011556  0.058000  ...   35m_altitude   \n",
       "14017463  DJI_0155400  0.615517  0.015172  0.065862  ...   35m_altitude   \n",
       "\n",
       "         ground_truth    Video_File   File_ID        Date   Time  \\\n",
       "0                road  DJI_0099.MP4  DJI_0099  03/05/2020  11:40   \n",
       "1                road  DJI_0099.MP4  DJI_0099  03/05/2020  11:40   \n",
       "2                road  DJI_0099.MP4  DJI_0099  03/05/2020  11:40   \n",
       "3                road  DJI_0099.MP4  DJI_0099  03/05/2020  11:40   \n",
       "4                road  DJI_0099.MP4  DJI_0099  03/05/2020  11:40   \n",
       "...               ...           ...       ...         ...    ...   \n",
       "14017459      foliage  DJI_0155.MP4  DJI_0155  04/07/2020  14:06   \n",
       "14017460      foliage  DJI_0155.MP4  DJI_0155  04/07/2020  14:06   \n",
       "14017461      foliage  DJI_0155.MP4  DJI_0155  04/07/2020  14:06   \n",
       "14017462      foliage  DJI_0155.MP4  DJI_0155  04/07/2020  14:06   \n",
       "14017463      foliage  DJI_0155.MP4  DJI_0155  04/07/2020  14:06   \n",
       "\n",
       "         Time_From_Daylight_Start Time_To_Daylight_End     Conditions  matched  \n",
       "0                            5.77                 9.40  Partly_Cloudy        0  \n",
       "1                            5.77                 9.40  Partly_Cloudy        1  \n",
       "2                            5.77                 9.40  Partly_Cloudy        1  \n",
       "3                            5.77                 9.40  Partly_Cloudy        0  \n",
       "4                            5.77                 9.40  Partly_Cloudy        1  \n",
       "...                           ...                  ...            ...      ...  \n",
       "14017459                     9.12                 8.08         Cloudy        1  \n",
       "14017460                     9.12                 8.08         Cloudy        1  \n",
       "14017461                     9.12                 8.08         Cloudy        1  \n",
       "14017462                     9.12                 8.08         Cloudy        1  \n",
       "14017463                     9.12                 8.08         Cloudy        1  \n",
       "\n",
       "[14017464 rows x 22 columns]"
      ]
     },
     "execution_count": 4,
     "metadata": {},
     "output_type": "execute_result"
    }
   ],
   "source": [
    "compare_data['matched'] = 0\n",
    "compare_data.loc[compare_data['tile_class'] == compare_data['ground_truth'], 'matched'] = 1\n",
    "compare_data"
   ]
  },
  {
   "cell_type": "markdown",
   "metadata": {},
   "source": [
    "## Step 2: Evaluate statistical characteristics of the classification data\n",
    "\n",
    "Evaluate the distribution of probabilities for the different categories, compare between the different classification algorithms"
   ]
  },
  {
   "cell_type": "code",
   "execution_count": 55,
   "metadata": {},
   "outputs": [
    {
     "data": {
      "text/plain": [
       "Text(0.5, 1.0, 'CNN - Foliage')"
      ]
     },
     "execution_count": 55,
     "metadata": {},
     "output_type": "execute_result"
    },
    {
     "data": {
      "image/png": "[encoded data removed]",
      "text/plain": [
       "<Figure size 432x288 with 1 Axes>"
      ]
     },
     "metadata": {
      "needs_background": "light"
     },
     "output_type": "display_data"
    }
   ],
   "source": [
    "import matplotlib.pyplot as plt\n",
    "import numpy as np \n",
    "\n",
    "# Plot a histogram for the probabilities of a cell being foliage when classified by a CNN\n",
    "n, bins, patches = plt.hist(x=compare_data.loc[(compare_data.algorithm_type == 'cnn') & \n",
    "                                               (compare_data.Foliage > 0), 'Foliage'], \n",
    "                            bins='auto', color='#0504aa', alpha=0.7)\n",
    "plt.grid(axis='y', alpha=0.75)\n",
    "plt.xlabel('Value')\n",
    "plt.ylabel('Frequency')\n",
    "plt.title('CNN - Foliage')\n"
   ]
  },
  {
   "cell_type": "code",
   "execution_count": 54,
   "metadata": {},
   "outputs": [
    {
     "data": {
      "text/plain": [
       "Text(0.5, 1.0, 'CNN - Water')"
      ]
     },
     "execution_count": 54,
     "metadata": {},
     "output_type": "execute_result"
    },
    {
     "data": {
      "image/png": "[encoded data removed]",
      "text/plain": [
       "<Figure size 432x288 with 1 Axes>"
      ]
     },
     "metadata": {
      "needs_background": "light"
     },
     "output_type": "display_data"
    }
   ],
   "source": [
    "# Plot a histogram for the probabilities of a cell being Water when classified by a CNN\n",
    "n, bins, patches = plt.hist(x=compare_data.loc[(compare_data.algorithm_type == 'cnn') &\n",
    "                                               (compare_data.Water > 0), 'Water'], \n",
    "                            bins='auto', color='#0504aa', alpha=0.7)\n",
    "plt.grid(axis='y', alpha=0.75)\n",
    "plt.xlabel('Value')\n",
    "plt.ylabel('Frequency')\n",
    "plt.title('CNN - Water')\n"
   ]
  },
  {
   "cell_type": "code",
   "execution_count": 56,
   "metadata": {},
   "outputs": [
    {
     "data": {
      "text/plain": [
       "Text(0.5, 1.0, 'CNN - Road')"
      ]
     },
     "execution_count": 56,
     "metadata": {},
     "output_type": "execute_result"
    },
    {
     "data": {
      "image/png": "[encoded data removed]",
      "text/plain": [
       "<Figure size 432x288 with 1 Axes>"
      ]
     },
     "metadata": {
      "needs_background": "light"
     },
     "output_type": "display_data"
    }
   ],
   "source": [
    "# Plot a histogram for the probabilities of a cell being Water when classified by a CNN\n",
    "n, bins, patches = plt.hist(x=compare_data.loc[(compare_data.algorithm_type == 'cnn') & \n",
    "                                               (compare_data.Road > 0), 'Road'], \n",
    "                            bins='auto', color='#0504aa', alpha=0.7)\n",
    "plt.grid(axis='y', alpha=0.75)\n",
    "plt.xlabel('Value')\n",
    "plt.ylabel('Frequency')\n",
    "plt.title('CNN - Road')"
   ]
  },
  {
   "cell_type": "code",
   "execution_count": 52,
   "metadata": {},
   "outputs": [
    {
     "data": {
      "text/plain": [
       "Text(0.5, 1.0, 'CNN - Building')"
      ]
     },
     "execution_count": 52,
     "metadata": {},
     "output_type": "execute_result"
    },
    {
     "data": {
      "image/png": "[encoded data removed]",
      "text/plain": [
       "<Figure size 432x288 with 1 Axes>"
      ]
     },
     "metadata": {
      "needs_background": "light"
     },
     "output_type": "display_data"
    }
   ],
   "source": [
    "# Plot a histogram for the probabilities of a cell being Water when classified by a CNN\n",
    "n, bins, patches = plt.hist(x=compare_data.loc[(compare_data.algorithm_type == 'cnn') & \n",
    "                                               (compare_data.Building > 0), 'Building'], \n",
    "                            bins='auto', color='#0504aa', alpha=0.7)\n",
    "plt.grid(axis='y', alpha=0.75)\n",
    "plt.xlabel('Value')\n",
    "plt.ylabel('Frequency')\n",
    "plt.title('CNN - Building')"
   ]
  },
  {
   "cell_type": "code",
   "execution_count": 40,
   "metadata": {},
   "outputs": [
    {
     "data": {
      "text/plain": [
       "Text(0.5, 1.0, 'Ilastik - Foliage')"
      ]
     },
     "execution_count": 40,
     "metadata": {},
     "output_type": "execute_result"
    },
    {
     "data": {
      "image/png": "[encoded data removed]",
      "text/plain": [
       "<Figure size 432x288 with 1 Axes>"
      ]
     },
     "metadata": {
      "needs_background": "light"
     },
     "output_type": "display_data"
    }
   ],
   "source": [
    "# Plot a histogram for the probabilities of a cell being foliage when classified by Ilastik\n",
    "n, bins, patches = plt.hist(x=compare_data.loc[compare_data.algorithm_type == 'ilastik', 'Foliage'], bins='auto', color='#0504aa',\n",
    "                            alpha=0.7)\n",
    "plt.grid(axis='y', alpha=0.75)\n",
    "plt.xlabel('Value')\n",
    "plt.ylabel('Frequency')\n",
    "plt.title('Ilastik - Foliage')"
   ]
  },
  {
   "cell_type": "code",
   "execution_count": 57,
   "metadata": {
    "scrolled": true
   },
   "outputs": [
    {
     "data": {
      "text/plain": [
       "Text(0.5, 1.0, 'Ilastik - Water')"
      ]
     },
     "execution_count": 57,
     "metadata": {},
     "output_type": "execute_result"
    },
    {
     "data": {
      "image/png": "[encoded data removed]",
      "text/plain": [
       "<Figure size 432x288 with 1 Axes>"
      ]
     },
     "metadata": {
      "needs_background": "light"
     },
     "output_type": "display_data"
    }
   ],
   "source": [
    "# Plot a histogram for the probabilities of a cell being foliage when classified by Ilastik\n",
    "n, bins, patches = plt.hist(x=compare_data.loc[(compare_data.algorithm_type == 'ilastik') & \n",
    "                                               (compare_data.Water > 0), 'Water'], \n",
    "                            bins='auto', color='#0504aa', alpha=0.7)\n",
    "plt.grid(axis='y', alpha=0.75)\n",
    "plt.xlabel('Value')\n",
    "plt.ylabel('Frequency')\n",
    "plt.title('Ilastik - Water')"
   ]
  },
  {
   "cell_type": "code",
   "execution_count": 58,
   "metadata": {},
   "outputs": [
    {
     "data": {
      "text/plain": [
       "Text(0.5, 1.0, 'Ilastik - Road')"
      ]
     },
     "execution_count": 58,
     "metadata": {},
     "output_type": "execute_result"
    },
    {
     "data": {
      "image/png": "[encoded data removed]",
      "text/plain": [
       "<Figure size 432x288 with 1 Axes>"
      ]
     },
     "metadata": {
      "needs_background": "light"
     },
     "output_type": "display_data"
    }
   ],
   "source": [
    "# Plot a histogram for the probabilities of a cell being foliage when classified by Ilastik\n",
    "n, bins, patches = plt.hist(x=compare_data.loc[(compare_data.algorithm_type == 'ilastik') & \n",
    "                                               (compare_data.Road > 0), 'Road'], \n",
    "                            bins='auto', color='#0504aa', alpha=0.7)\n",
    "plt.grid(axis='y', alpha=0.75)\n",
    "plt.xlabel('Value')\n",
    "plt.ylabel('Frequency')\n",
    "plt.title('Ilastik - Road')"
   ]
  },
  {
   "cell_type": "code",
   "execution_count": 45,
   "metadata": {},
   "outputs": [
    {
     "data": {
      "text/plain": [
       "Text(0.5, 1.0, 'Ilastik - Building')"
      ]
     },
     "execution_count": 45,
     "metadata": {},
     "output_type": "execute_result"
    },
    {
     "data": {
      "image/png": "[encoded data removed]",
      "text/plain": [
       "<Figure size 432x288 with 1 Axes>"
      ]
     },
     "metadata": {
      "needs_background": "light"
     },
     "output_type": "display_data"
    }
   ],
   "source": [
    "# Plot a histogram for the probabilities of a cell being foliage when classified by Ilastik\n",
    "n, bins, patches = plt.hist(x=compare_data.loc[compare_data.algorithm_type == 'ilastik', 'Road'], bins='auto', color='#0504aa',\n",
    "                            alpha=0.7)\n",
    "plt.grid(axis='y', alpha=0.75)\n",
    "plt.xlabel('Value')\n",
    "plt.ylabel('Frequency')\n",
    "plt.title('Ilastik - Building')"
   ]
  },
  {
   "cell_type": "code",
   "execution_count": null,
   "metadata": {},
   "outputs": [],
   "source": [
    "TODO: Statistical look at probability value differences between algorithms"
   ]
  },
  {
   "cell_type": "code",
   "execution_count": null,
   "metadata": {},
   "outputs": [],
   "source": [
    "category_grouped = compare_data.groupby(['algorithm_type', 'algorithm', 'test_case', 'image_size'])['matched'].agg(['sum','count'])\n",
    "category_grouped = category_grouped.reset_index()\n",
    "category_grouped['percentage_match'] = category_grouped['sum'] / category_grouped['count'] * 100\n",
    "category_grouped['algo'] = category_grouped['algorithm_type'] + \" \" + category_grouped['algorithm']\n",
    "category_grouped\n",
    "df = category_grouped.sort_values(['algo', 'image_size'])\n",
    "di_test_case = {\"120m_altitude\": \"120m\", \"35m_altitude\": \"035m\", \"55m_altitude\": \"055m\", \"different_angle\": \"angl\"}\n",
    "df.test_case = df.test_case.replace(di_test_case)\n",
    "di_img_size = {\"test-large\": \"lg\", \"test-medium\": \"med\", \"test-small\": \"sm\"}\n",
    "df.image_size = df.image_size.replace(di_img_size)\n",
    "df.algo = df.algo.replace({\"ilastik default\": \"ilastik\"})\n",
    "df = df.sort_values(['algo', 'test_case'])\n",
    "df['test_group'] = df['test_case'] + \" \" + df['image_size']\n",
    "df = df.pivot(index='test_group', columns='algo', values='percentage_match')\n",
    "df.plot.line()"
   ]
  },
  {
   "cell_type": "code",
   "execution_count": null,
   "metadata": {},
   "outputs": [],
   "source": [
    "TODO: AUC chart"
   ]
  }
 ],
 "metadata": {
  "kernelspec": {
   "display_name": "Python 3",
   "language": "python",
   "name": "python3"
  },
  "language_info": {
   "codemirror_mode": {
    "name": "ipython",
    "version": 3
   },
   "file_extension": ".py",
   "mimetype": "text/x-python",
   "name": "python",
   "nbconvert_exporter": "python",
   "pygments_lexer": "ipython3",
   "version": "3.7.4"
  }
 },
 "nbformat": 4,
 "nbformat_minor": 4
}

{
 "cells": [
  {
   "cell_type": "code",
   "execution_count": 6,
   "metadata": {},
   "outputs": [],
   "source": [
    "import os\n",
    "import glob\n",
    "import PIL\n",
    "from PIL import Image\n",
    "\n",
    "test_images = glob.glob('../../Texture_Repo/Donegal_Rural_Terrain_Textures/Upload_To_AWS/test/*.jpg')\n",
    "\n",
    "for file in test_images:    \n",
    "    im = Image.open(file)\n",
    "    im.thumbnail([1920,1080],PIL.Image.ANTIALIAS)\n",
    "    head_tail = os.path.split(file)    \n",
    "    im.save('../../Texture_Repo/Donegal_Rural_Terrain_Textures/Upload_To_AWS/test_med/' + head_tail[1], \"JPEG\")\n",
    "    im = PIL.Image.open(file)\n",
    "    im.thumbnail([800,600],PIL.Image.ANTIALIAS)\n",
    "    im.save('../../Texture_Repo/Donegal_Rural_Terrain_Textures/Upload_To_AWS/test_small/' + head_tail[1], \"JPEG\")\n"
   ]
  }
 ],
 "metadata": {
  "kernelspec": {
   "display_name": "Python 3",
   "language": "python",
   "name": "python3"
  },
  "language_info": {
   "codemirror_mode": {
    "name": "ipython",
    "version": 3
   },
   "file_extension": ".py",
   "mimetype": "text/x-python",
   "name": "python",
   "nbconvert_exporter": "python",
   "pygments_lexer": "ipython3",
   "version": "3.7.4"
  }
 },
 "nbformat": 4,
 "nbformat_minor": 4
}
